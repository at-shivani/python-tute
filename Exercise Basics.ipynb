{
 "cells": [
  {
   "source": [
    "### Solutions\n",
    "https://www.w3resource.com/python-exercises/python-conditional-statements-and-loop-exercises.php"
   ],
   "cell_type": "markdown",
   "metadata": {}
  },
  {
   "cell_type": "code",
   "execution_count": 20,
   "metadata": {},
   "outputs": [
    {
     "output_type": "stream",
     "name": "stdout",
     "text": [
      "No of alphabates: 19\nNo of digits: 6\n"
     ]
    }
   ],
   "source": [
    "# problem 14\n",
    "a_string = 'California 2.32 left 4.78 right'\n",
    "\n",
    "num_alpha = 0\n",
    "num_digits = 0\n",
    "for ch in a_string:\n",
    "    if 'a' <= ch.lower() <= 'z':\n",
    "        num_alpha += 1\n",
    "    elif '0' <= ch <= '9':\n",
    "        num_digits += 1\n",
    "print('No of alphabates:', num_alpha)\n",
    "print('No of digits:', num_digits)"
   ]
  },
  {
   "cell_type": "code",
   "execution_count": 29,
   "metadata": {},
   "outputs": [
    {
     "output_type": "stream",
     "name": "stdout",
     "text": [
      "correct password\n"
     ]
    }
   ],
   "source": [
    "# problem 15\n",
    "user_input = 'ocean@8D'\n",
    "\n",
    "lower = 0\n",
    "upper = 0\n",
    "num = 0\n",
    "punc = 0\n",
    "min_len = 6\n",
    "max_len = 16\n",
    "\n",
    "for i in user_input:\n",
    "    if 'a' <= i <= 'z':\n",
    "        lower += 1\n",
    "    if 'A' <= i <= 'Z':\n",
    "        upper += 1\n",
    "    if i in '$#@':\n",
    "        punc += 1\n",
    "    if '0' <= i <= '9':\n",
    "        num += 1\n",
    "    \n",
    "max_min = min_len <= len(user_input) <= max_len\n",
    "all_condn = lower * upper * num * punc > 0 and max_min\n",
    "if all_condn:\n",
    "    print('correct password')\n",
    "else:\n",
    "    print('bad password please enter a strong password')\n",
    "\n",
    "\n"
   ]
  },
  {
   "source": [
    "##### Trying to commit from at-shivani"
   ],
   "cell_type": "markdown",
   "metadata": {}
  },
  {
   "cell_type": "code",
   "execution_count": null,
   "metadata": {},
   "outputs": [],
   "source": []
  }
 ],
 "metadata": {
  "kernelspec": {
   "name": "python364jvsc74a57bd0933a0694677965eaaa68cc433958b3940eb52059b0397f4acf4d81523bdf4ad6",
   "display_name": "Python 3.6.4 64-bit (conda)"
  },
  "language_info": {
   "codemirror_mode": {
    "name": "ipython",
    "version": 3
   },
   "file_extension": ".py",
   "mimetype": "text/x-python",
   "name": "python",
   "nbconvert_exporter": "python",
   "pygments_lexer": "ipython3",
   "version": "3.6.4"
  }
 },
 "nbformat": 4,
 "nbformat_minor": 2
}